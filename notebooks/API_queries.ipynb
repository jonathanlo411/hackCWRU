{
 "cells": [
  {
   "cell_type": "code",
   "execution_count": 5,
   "metadata": {},
   "outputs": [],
   "source": [
    "import paypalrestsdk"
   ]
  },
  {
   "cell_type": "code",
   "execution_count": 6,
   "metadata": {},
   "outputs": [],
   "source": [
    "# config\n",
    "with open('key.txt', 'r') as file:\n",
    "    data = file.readlines()\n",
    "    \n",
    "paypal_cid = data[4].split(\":\")[1].replace(\"\\n\", \"\")\n",
    "paypal_cis = data[5].split(\":\")[1].replace(\"\\n\", \"\")"
   ]
  },
  {
   "cell_type": "code",
   "execution_count": 10,
   "metadata": {},
   "outputs": [
    {
     "data": {
      "text/plain": [
       "<paypalrestsdk.api.Api at 0x1760fbc4310>"
      ]
     },
     "execution_count": 10,
     "metadata": {},
     "output_type": "execute_result"
    }
   ],
   "source": [
    "paypalrestsdk.configure({\n",
    "    \"mode\": \"sandbox\", # sandbox or live\n",
    "    \"client_id\": paypal_cid,\n",
    "    \"client_secret\": paypal_cis })"
   ]
  },
  {
   "cell_type": "markdown",
   "metadata": {},
   "source": [
    "Define cells below as function"
   ]
  },
  {
   "cell_type": "code",
   "execution_count": 11,
   "metadata": {},
   "outputs": [],
   "source": [
    "api_client = paypalrestsdk.Api({\n",
    "    'mode': 'sandbox',\n",
    "    \"client_id\": paypal_cid,\n",
    "    \"client_secret\": paypal_cis })"
   ]
  },
  {
   "cell_type": "code",
   "execution_count": 12,
   "metadata": {},
   "outputs": [
    {
     "name": "stdout",
     "output_type": "stream",
     "text": [
      "Payment created successfully\n"
     ]
    }
   ],
   "source": [
    "payment = paypalrestsdk.Payment({\n",
    "    \"intent\": \"sale\",\n",
    "    \"payer\": {\n",
    "        \"payment_method\": \"paypal\"},\n",
    "    \"redirect_urls\": {\n",
    "        \"return_url\": \"http://localhost:3000/payment/execute\", # link to tipship site\n",
    "        \"cancel_url\": \"http://localhost:3000/\"}, # link to tipship site\n",
    "    \"transactions\": [{\n",
    "        \"item_list\": {\n",
    "            \"items\": [{\n",
    "                \"name\": \"item\",\n",
    "                \"sku\": \"item\",\n",
    "                \"price\": \"5.00\",\n",
    "                \"currency\": \"USD\",\n",
    "                \"quantity\": 1}]},\n",
    "        \"amount\": {\n",
    "            \"total\": \"5.00\",\n",
    "            \"currency\": \"USD\"},\n",
    "        \"description\": \"This is the payment transaction description.\"}]},\n",
    "        api=api_client)\n",
    "\n",
    "if payment.create():\n",
    "  print(\"Payment created successfully\")\n",
    "else:\n",
    "  print(payment.error)"
   ]
  },
  {
   "cell_type": "code",
   "execution_count": 23,
   "metadata": {},
   "outputs": [
    {
     "data": {
      "text/plain": [
       "{'intent': 'sale', 'payer': {'payment_method': 'paypal'}, 'redirect_urls': {'return_url': 'http://localhost:3000/payment/execute', 'cancel_url': 'http://localhost:3000/'}, 'transactions': [{'amount': {'total': '5.00', 'currency': 'USD'}, 'description': 'This is the payment transaction description.', 'item_list': {'items': [{'name': 'item', 'sku': 'item', 'price': '5.00', 'currency': 'USD', 'quantity': 1}]}, 'related_resources': []}], 'id': 'PAYID-MI3F4FY24Y52630TS376684L', 'state': 'created', 'create_time': '2022-03-19T22:49:59Z', 'links': [{'href': 'https://api.sandbox.paypal.com/v1/payments/payment/PAYID-MI3F4FY24Y52630TS376684L', 'rel': 'self', 'method': 'GET'}, {'href': 'https://www.sandbox.paypal.com/cgi-bin/webscr?cmd=_express-checkout&token=EC-0RJ12407U9098650E', 'rel': 'approval_url', 'method': 'REDIRECT'}, {'href': 'https://api.sandbox.paypal.com/v1/payments/payment/PAYID-MI3F4FY24Y52630TS376684L/execute', 'rel': 'execute', 'method': 'POST'}]}"
      ]
     },
     "execution_count": 23,
     "metadata": {},
     "output_type": "execute_result"
    }
   ],
   "source": [
    "payment"
   ]
  },
  {
   "cell_type": "code",
   "execution_count": 21,
   "metadata": {},
   "outputs": [],
   "source": [
    "#payment['redirect_urls']"
   ]
  },
  {
   "cell_type": "code",
   "execution_count": 24,
   "metadata": {},
   "outputs": [
    {
     "data": {
      "text/plain": [
       "[{'href': 'https://api.sandbox.paypal.com/v1/payments/payment/PAYID-MI3F4FY24Y52630TS376684L', 'rel': 'self', 'method': 'GET'},\n",
       " {'href': 'https://www.sandbox.paypal.com/cgi-bin/webscr?cmd=_express-checkout&token=EC-0RJ12407U9098650E', 'rel': 'approval_url', 'method': 'REDIRECT'},\n",
       " {'href': 'https://api.sandbox.paypal.com/v1/payments/payment/PAYID-MI3F4FY24Y52630TS376684L/execute', 'rel': 'execute', 'method': 'POST'}]"
      ]
     },
     "execution_count": 24,
     "metadata": {},
     "output_type": "execute_result"
    }
   ],
   "source": [
    "payment['links']"
   ]
  },
  {
   "cell_type": "code",
   "execution_count": null,
   "metadata": {},
   "outputs": [],
   "source": [
    "for link in payment['links']:\n",
    "    if link.rel == \"approval_url\":\n",
    "\n",
    "        # USE REQUESTS probably\n",
    "\n",
    "        approval_url = str(link.href)\n",
    "        print(\"Redirect for approval: %s\" % (approval_url))\n",
    "    if link['rel'] == 'execute':\n",
    "        if payment.execute({\"payer_id\": \"DUFRQ8GWYMJXC\"}):\n",
    "            print(\"Payment execute successfully\")\n",
    "        else:\n",
    "            print(payment.error) # Error Hash"
   ]
  }
 ],
 "metadata": {
  "interpreter": {
   "hash": "63fd5069d213b44bf678585dea6b12cceca9941eaf7f819626cde1f2670de90d"
  },
  "kernelspec": {
   "display_name": "Python 3.9.6 64-bit",
   "language": "python",
   "name": "python3"
  },
  "language_info": {
   "codemirror_mode": {
    "name": "ipython",
    "version": 3
   },
   "file_extension": ".py",
   "mimetype": "text/x-python",
   "name": "python",
   "nbconvert_exporter": "python",
   "pygments_lexer": "ipython3",
   "version": "3.8.8"
  },
  "orig_nbformat": 4
 },
 "nbformat": 4,
 "nbformat_minor": 2
}
