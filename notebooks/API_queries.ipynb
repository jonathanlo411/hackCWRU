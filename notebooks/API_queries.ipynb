{
 "cells": [
  {
   "cell_type": "code",
   "execution_count": 5,
   "metadata": {},
   "outputs": [],
   "source": [
    "import paypalrestsdk"
   ]
  },
  {
   "cell_type": "code",
   "execution_count": 6,
   "metadata": {},
   "outputs": [],
   "source": [
    "# config\n",
    "with open('key.txt', 'r') as file:\n",
    "    data = file.readlines()\n",
    "    \n",
    "paypal_cid = data[4].split(\":\")[1].replace(\"\\n\", \"\")\n",
    "paypal_cis = data[5].split(\":\")[1].replace(\"\\n\", \"\")"
   ]
  },
  {
   "cell_type": "code",
   "execution_count": 10,
   "metadata": {},
   "outputs": [
    {
     "data": {
      "text/plain": [
       "<paypalrestsdk.api.Api at 0x1760fbc4310>"
      ]
     },
     "execution_count": 10,
     "metadata": {},
     "output_type": "execute_result"
    }
   ],
   "source": [
    "paypalrestsdk.configure({\n",
    "    \"mode\": \"sandbox\", # sandbox or live\n",
    "    \"client_id\": paypal_cid,\n",
    "    \"client_secret\": paypal_cis })"
   ]
  },
  {
   "cell_type": "markdown",
   "metadata": {},
   "source": [
    "Define cells below as function"
   ]
  },
  {
   "cell_type": "code",
   "execution_count": 11,
   "metadata": {},
   "outputs": [],
   "source": [
    "api_client = paypalrestsdk.Api({\n",
    "    'mode': 'sandbox',\n",
    "    \"client_id\": paypal_cid,\n",
    "    \"client_secret\": paypal_cis })"
   ]
  },
  {
   "cell_type": "code",
   "execution_count": 12,
   "metadata": {},
   "outputs": [
    {
     "name": "stdout",
     "output_type": "stream",
     "text": [
      "Payment created successfully\n"
     ]
    }
   ],
   "source": [
    "payment = paypalrestsdk.Payment({\n",
    "    \"intent\": \"sale\",\n",
    "    \"payer\": {\n",
    "        \"payment_method\": \"paypal\"},\n",
    "    \"redirect_urls\": {\n",
    "        \"return_url\": \"http://localhost:3000/payment/execute\", # link to tipship site\n",
    "        \"cancel_url\": \"http://localhost:3000/\"}, # link to tipship site\n",
    "    \"transactions\": [{\n",
    "        \"item_list\": {\n",
    "            \"items\": [{\n",
    "                \"name\": \"item\",\n",
    "                \"sku\": \"item\",\n",
    "                \"price\": \"5.00\",\n",
    "                \"currency\": \"USD\",\n",
    "                \"quantity\": 1}]},\n",
    "        \"amount\": {\n",
    "            \"total\": \"5.00\",\n",
    "            \"currency\": \"USD\"},\n",
    "        \"description\": \"This is the payment transaction description.\"}]},\n",
    "        api=api_client)\n",
    "\n",
    "if payment.create():\n",
    "  print(\"Payment created successfully\")\n",
    "else:\n",
    "  print(payment.error)"
   ]
  },
  {
   "cell_type": "code",
   "execution_count": 20,
   "metadata": {},
   "outputs": [],
   "source": [
    "#payment"
   ]
  },
  {
   "cell_type": "code",
   "execution_count": 21,
   "metadata": {},
   "outputs": [],
   "source": [
    "#payment['redirect_urls']"
   ]
  },
  {
   "cell_type": "code",
   "execution_count": 22,
   "metadata": {},
   "outputs": [],
   "source": [
    "#payment['links']"
   ]
  },
  {
   "cell_type": "code",
   "execution_count": null,
   "metadata": {},
   "outputs": [],
   "source": []
  }
 ],
 "metadata": {
  "interpreter": {
   "hash": "63fd5069d213b44bf678585dea6b12cceca9941eaf7f819626cde1f2670de90d"
  },
  "kernelspec": {
   "display_name": "Python 3.9.6 64-bit",
   "language": "python",
   "name": "python3"
  },
  "language_info": {
   "codemirror_mode": {
    "name": "ipython",
    "version": 3
   },
   "file_extension": ".py",
   "mimetype": "text/x-python",
   "name": "python",
   "nbconvert_exporter": "python",
   "pygments_lexer": "ipython3",
   "version": "3.8.8"
  },
  "orig_nbformat": 4
 },
 "nbformat": 4,
 "nbformat_minor": 2
}
